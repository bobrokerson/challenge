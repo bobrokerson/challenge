{
 "cells": [
  {
   "cell_type": "markdown",
   "id": "77998f67-a7ab-49c2-a9f2-8bc35a813054",
   "metadata": {},
   "source": [
    "#### Task #1 \n",
    "Дано натуральное N=<100 . Выведите произведение всех нечётных натуральных чисел, не превосходящих N\n",
    "."
   ]
  },
  {
   "cell_type": "code",
   "execution_count": 64,
   "id": "4d799f0a-f6b9-44e3-bd7e-045939d2bd30",
   "metadata": {},
   "outputs": [
    {
     "name": "stdin",
     "output_type": "stream",
     "text": [
      "Data:  25\n"
     ]
    },
    {
     "name": "stdout",
     "output_type": "stream",
     "text": [
      "Multiply odd number from N: 7905853580625\n"
     ]
    }
   ],
   "source": [
    "import math\n",
    "N = int(input(\"Data: \"))\n",
    "out = math.prod([i for i in range(1, N+1, 2)])\n",
    "print(f\"Multiply odd number from N: {out}\")\n",
    "\n",
    "assert out == 7905853580625, \"Something is wrong! Please try again\""
   ]
  },
  {
   "cell_type": "code",
   "execution_count": 63,
   "id": "443151db-0a14-449e-b515-7cd92f9931db",
   "metadata": {},
   "outputs": [
    {
     "name": "stdin",
     "output_type": "stream",
     "text": [
      " 25\n"
     ]
    },
    {
     "name": "stdout",
     "output_type": "stream",
     "text": [
      "Multiply odd number from N: 7905853580625\n"
     ]
    }
   ],
   "source": [
    "from functools import reduce\n",
    "\n",
    "N = int(input())\n",
    "lis = []\n",
    "lis.append(1)\n",
    "x = 1\n",
    "while x < N:\n",
    "    x += 2\n",
    "    lis.append(x)\n",
    "N_double_fact = reduce(lambda x, y: x*y, lis) \n",
    "\n",
    "print(f\"Multiply odd number from N: {N_double_fact}\")\n",
    "\n",
    "assert N_double_fact == 7905853580625, \"Something is wrong! Please try again\""
   ]
  },
  {
   "cell_type": "markdown",
   "id": "fde20c6d-1051-42de-8bc9-073093832e3a",
   "metadata": {},
   "source": [
    "### Smart sorted"
   ]
  },
  {
   "cell_type": "code",
   "execution_count": 150,
   "id": "b1ddf3b6-73ea-445d-9a41-bacb04fed086",
   "metadata": {},
   "outputs": [
    {
     "name": "stdout",
     "output_type": "stream",
     "text": [
      "[('string', 'a'), ('one', 'two'), ('three', 'four'), ('five', 'six')]\n"
     ]
    }
   ],
   "source": [
    "items = [('one', 'two'), ('three', 'four'), ('five', 'six'), ('string', 'a')]\n",
    "sorted_items = sorted(items, key=lambda x: x[-1][-1:])\n",
    "print(sorted_items)\n",
    "                      \n",
    "assert sorted_items == [('string', 'a'), ('one', 'two'), ('three', 'four'), ('five', 'six')] "
   ]
  },
  {
   "cell_type": "markdown",
   "id": "4ad54739-cdc2-485b-999e-cf49367b1e2c",
   "metadata": {},
   "source": [
    "### Слайсы"
   ]
  },
  {
   "cell_type": "code",
   "execution_count": 190,
   "id": "f87e7275-8a80-4a9b-81b1-bda1298967c3",
   "metadata": {},
   "outputs": [
    {
     "name": "stdout",
     "output_type": "stream",
     "text": [
      "[-5, 2, -3, 4, -1]\n"
     ]
    }
   ],
   "source": [
    "x = [1, 2, 3, 4, 5]\n",
    "x[::-2]= [-1, -3, -5]\n",
    "print(x)\n",
    "assert x == [-5, 2, -3, 4, -1]"
   ]
  },
  {
   "cell_type": "markdown",
   "id": "fe3f75e2-7dfa-47dc-8b5a-6fb1fcbc2eaa",
   "metadata": {},
   "source": [
    "### Создание массивов"
   ]
  },
  {
   "cell_type": "code",
   "execution_count": 303,
   "id": "e6857644-d987-4148-8ad8-4ab3960cf249",
   "metadata": {},
   "outputs": [
    {
     "name": "stdout",
     "output_type": "stream",
     "text": [
      "[5, 6, 15, 29]\n"
     ]
    }
   ],
   "source": [
    "def cumsum_and_erase(A, erase=1):\n",
    "    B = []\n",
    "    s = 0\n",
    "    for i in A:\n",
    "        s += i\n",
    "        if s != erase:\n",
    "            B.append(s)\n",
    "    return B\n",
    "\n",
    "A = [5, 1, 4, 5, 14]\n",
    "B = cumsum_and_erase(A, erase=10)\n",
    "print(B)\n",
    "\n",
    "assert B == [5, 6, 15, 29], \"Something is wrong! Please try again\""
   ]
  },
  {
   "cell_type": "markdown",
   "id": "7f709f71-4517-48f5-8589-9426ce52c24d",
   "metadata": {},
   "source": [
    "### Обработка текста"
   ]
  },
  {
   "cell_type": "code",
   "execution_count": 426,
   "id": "aba29a41-1ddc-43b7-b9ae-841cf7bf857a",
   "metadata": {
    "tags": []
   },
   "outputs": [
    {
     "name": "stdout",
     "output_type": "stream",
     "text": [
      "['thousand devils', 'My name is', 'Room costs']\n"
     ]
    }
   ],
   "source": [
    "def process(s):\n",
    "    for i in s:\n",
    "        if not i.isalpha():\n",
    "            return False\n",
    "    return True\n",
    " \n",
    "sentences = ['1 thousand devils', 'My name is 9Pasha', 'Room #125 costs $100']\n",
    " \n",
    "print([\" \".join(i for i in line.split(\" \") if process(i)) for line in sentences])\n"
   ]
  },
  {
   "cell_type": "code",
   "execution_count": 425,
   "id": "14e7c9da-5195-44eb-a48f-d63c03cf39e5",
   "metadata": {
    "tags": []
   },
   "outputs": [
    {
     "name": "stdout",
     "output_type": "stream",
     "text": [
      "<class 'str'>| thousand devils|\n",
      "<class 'str'>|My name is Pasha|\n",
      "<class 'str'>|Room  costs |\n",
      "<class 'str'>||\n"
     ]
    },
    {
     "data": {
      "text/plain": [
       "[' thousand devils', 'My name is Pasha', 'Room  costs ', '']"
      ]
     },
     "execution_count": 425,
     "metadata": {},
     "output_type": "execute_result"
    }
   ],
   "source": [
    "sentences = ['1 thousand devils', 'My name is 9Pasha', 'Room #125 costs $100', '888']\n",
    "['thousand devils', 'My name is', 'Room costs', '']\n",
    "def process(sentences):\n",
    "    arr = []\n",
    "    s = ''\n",
    "    for x in sentences:\n",
    "      s = ''\n",
    "      for y in range(len(x)):\n",
    "        if str.isalpha(x[y]) or  x[y] == ' ':\n",
    "          s = s+x[y]\n",
    "      print(type(s),end = '')\n",
    "      str.strip(s)\n",
    "      print(\"|\"+s+\"|\")\n",
    "      arr.append(s)   \n",
    "\n",
    "    result = arr\n",
    "    return result\n",
    "process(sentences)"
   ]
  },
  {
   "cell_type": "code",
   "execution_count": null,
   "id": "13afc4b5-5876-467d-9bbd-8da8aabcb3ab",
   "metadata": {},
   "outputs": [],
   "source": []
  }
 ],
 "metadata": {
  "kernelspec": {
   "display_name": "Python 3 (ipykernel)",
   "language": "python",
   "name": "python3"
  },
  "language_info": {
   "codemirror_mode": {
    "name": "ipython",
    "version": 3
   },
   "file_extension": ".py",
   "mimetype": "text/x-python",
   "name": "python",
   "nbconvert_exporter": "python",
   "pygments_lexer": "ipython3",
   "version": "3.9.7"
  }
 },
 "nbformat": 4,
 "nbformat_minor": 5
}
