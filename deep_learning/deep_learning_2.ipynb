{
 "cells": [
  {
   "cell_type": "code",
   "execution_count": 174,
   "id": "78c5b245-af00-4983-947c-6fa08c45ef66",
   "metadata": {},
   "outputs": [],
   "source": [
    "import numpy as np\n",
    "import random\n",
    "import scipy.stats as sps"
   ]
  },
  {
   "cell_type": "code",
   "execution_count": null,
   "id": "867ba854-5aa2-4095-ac77-9e9269809912",
   "metadata": {},
   "outputs": [],
   "source": [
    "np.lookfor('mean value of array') "
   ]
  },
  {
   "cell_type": "markdown",
   "id": "a4276bef-1192-4bec-92d2-c414a31be9ba",
   "metadata": {},
   "source": [
    "#### Task 1\n",
    "- Создать массив чисел от -4pi до 4pi , количество точек 100\n",
    "- Посчитать сумму поэлементных квадратов синуса и косинуса для данного массива\n",
    "- С помощью np.all проверить, что все элементы равны единице."
   ]
  },
  {
   "cell_type": "code",
   "execution_count": 91,
   "id": "92569ab1-5965-45e6-995d-5321ee2bf622",
   "metadata": {},
   "outputs": [
    {
     "name": "stdout",
     "output_type": "stream",
     "text": [
      "Array : \n",
      "[-12.56637061 -12.31250454 -12.05863847 -11.8047724  -11.55090632\n",
      " -11.29704025 -11.04317418 -10.7893081  -10.53544203 -10.28157596\n",
      " -10.02770988  -9.77384381  -9.51997774  -9.26611167  -9.01224559\n",
      "  -8.75837952  -8.50451345  -8.25064737  -7.9967813   -7.74291523\n",
      "  -7.48904915  -7.23518308  -6.98131701  -6.72745093  -6.47358486\n",
      "  -6.21971879  -5.96585272  -5.71198664  -5.45812057  -5.2042545\n",
      "  -4.95038842  -4.69652235  -4.44265628  -4.1887902   -3.93492413\n",
      "  -3.68105806  -3.42719199  -3.17332591  -2.91945984  -2.66559377\n",
      "  -2.41172769  -2.15786162  -1.90399555  -1.65012947  -1.3962634\n",
      "  -1.14239733  -0.88853126  -0.63466518  -0.38079911  -0.12693304\n",
      "   0.12693304   0.38079911   0.63466518   0.88853126   1.14239733\n",
      "   1.3962634    1.65012947   1.90399555   2.15786162   2.41172769\n",
      "   2.66559377   2.91945984   3.17332591   3.42719199   3.68105806\n",
      "   3.93492413   4.1887902    4.44265628   4.69652235   4.95038842\n",
      "   5.2042545    5.45812057   5.71198664   5.96585272   6.21971879\n",
      "   6.47358486   6.72745093   6.98131701   7.23518308   7.48904915\n",
      "   7.74291523   7.9967813    8.25064737   8.50451345   8.75837952\n",
      "   9.01224559   9.26611167   9.51997774   9.77384381  10.02770988\n",
      "  10.28157596  10.53544203  10.7893081   11.04317418  11.29704025\n",
      "  11.55090632  11.8047724   12.05863847  12.31250454  12.56637061]\n"
     ]
    }
   ],
   "source": [
    "x = np.linspace(-4*np.pi, 4*np.pi, 100)\n",
    "print(f\"Array : \\n{x}\")"
   ]
  },
  {
   "cell_type": "code",
   "execution_count": 92,
   "id": "ca61e949-a525-4268-abf9-2ac19db97f83",
   "metadata": {},
   "outputs": [
    {
     "data": {
      "text/plain": [
       "True"
      ]
     },
     "execution_count": 92,
     "metadata": {},
     "output_type": "execute_result"
    }
   ],
   "source": [
    "np.all((np.sin(x)**2 + np.cos(x)**2).round() == 1)"
   ]
  },
  {
   "cell_type": "code",
   "execution_count": 97,
   "id": "75c74e7b-2501-451c-9014-644c7700e4f9",
   "metadata": {},
   "outputs": [
    {
     "name": "stdout",
     "output_type": "stream",
     "text": [
      "Out: \n",
      "[1. 1. 1. 1. 1. 1. 1. 1. 1. 1. 1. 1. 1. 1. 1. 1. 1. 1. 1. 1. 1. 1. 1. 1.\n",
      " 1. 1. 1. 1. 1. 1. 1. 1. 1. 1. 1. 1. 1. 1. 1. 1. 1. 1. 1. 1. 1. 1. 1. 1.\n",
      " 1. 1. 1. 1. 1. 1. 1. 1. 1. 1. 1. 1. 1. 1. 1. 1. 1. 1. 1. 1. 1. 1. 1. 1.\n",
      " 1. 1. 1. 1. 1. 1. 1. 1. 1. 1. 1. 1. 1. 1. 1. 1. 1. 1. 1. 1. 1. 1. 1. 1.\n",
      " 1. 1. 1. 1.]\n"
     ]
    }
   ],
   "source": [
    "out = np.sin(x)**2 + np.cos(x)**2\n",
    "print(f\"Out: \\n{out}\")"
   ]
  },
  {
   "cell_type": "markdown",
   "id": "3eb5d11a-8af4-44b6-b55a-c166c28e115c",
   "metadata": {},
   "source": [
    "#### -----------"
   ]
  },
  {
   "cell_type": "code",
   "execution_count": 116,
   "id": "90fb9f6b-ed76-4b23-a5e8-8d7157dc8a3c",
   "metadata": {},
   "outputs": [
    {
     "name": "stdout",
     "output_type": "stream",
     "text": [
      "[[ 0  1  2  3  4  5  6  7  8  9]\n",
      " [10 11 12 13 14 15 16 17 18 19]]\n"
     ]
    }
   ],
   "source": [
    "b = np.arange(0, 20)\n",
    "b.shape = (2, 10)\n",
    "print(b)"
   ]
  },
  {
   "cell_type": "code",
   "execution_count": 117,
   "id": "560d0c3c-b530-40fc-a9ba-b5e7f031c50e",
   "metadata": {},
   "outputs": [
    {
     "name": "stdout",
     "output_type": "stream",
     "text": [
      "[ 0  1  2  3  4  5  6  7  8  9 10 11 12 13 14 15 16 17 18 19]\n"
     ]
    }
   ],
   "source": [
    "print(b.ravel())"
   ]
  },
  {
   "cell_type": "code",
   "execution_count": 120,
   "id": "4912b3ac-bd8d-4094-ae2e-1aae85719c84",
   "metadata": {},
   "outputs": [
    {
     "name": "stdout",
     "output_type": "stream",
     "text": [
      "[[1. 0. 0. 0. 0.]\n",
      " [0. 1. 0. 0. 0.]\n",
      " [0. 0. 1. 0. 0.]\n",
      " [0. 0. 0. 1. 0.]\n",
      " [0. 0. 0. 0. 1.]]\n"
     ]
    }
   ],
   "source": [
    "c = np.eye(5)\n",
    "print(c)"
   ]
  },
  {
   "cell_type": "markdown",
   "id": "b2113667-11d5-425b-979d-054ef27b46a0",
   "metadata": {},
   "source": [
    "#### Task 2\n",
    "Создать квадратную матрицу размера 8, на главной диаг. арифметическая прогрессия с шагом 3 (начиная с 3), а на побочной -1, остальные элементы 0."
   ]
  },
  {
   "cell_type": "code",
   "execution_count": 130,
   "id": "2caaad2f-6a81-4158-a1d2-e593b6938c07",
   "metadata": {},
   "outputs": [
    {
     "name": "stdout",
     "output_type": "stream",
     "text": [
      "[[ 3.  0.  0.  0.  0.  0.  0. -1.]\n",
      " [ 0.  6.  0.  0.  0.  0. -1.  0.]\n",
      " [ 0.  0.  9.  0.  0. -1.  0.  0.]\n",
      " [ 0.  0.  0. 12. -1.  0.  0.  0.]\n",
      " [ 0.  0.  0. -1. 15.  0.  0.  0.]\n",
      " [ 0.  0. -1.  0.  0. 18.  0.  0.]\n",
      " [ 0. -1.  0.  0.  0.  0. 21.  0.]\n",
      " [-1.  0.  0.  0.  0.  0.  0. 24.]]\n"
     ]
    }
   ],
   "source": [
    "arr = -1*np.eye(8)[::-1] + np.diag(np.arange(3, 27, 3))\n",
    "print(arr)"
   ]
  },
  {
   "cell_type": "markdown",
   "id": "25976c43-b5fe-404e-b7cf-d70456b5a510",
   "metadata": {},
   "source": [
    "#### Task 3\n",
    "Отобразить вектор размера 100, в котором вычеркивается x, если x --- составное (т. е. не является простым)"
   ]
  },
  {
   "cell_type": "code",
   "execution_count": 147,
   "id": "a1d5c304-242c-41d9-9571-769da95635d9",
   "metadata": {},
   "outputs": [],
   "source": [
    "arr = np.ones(100, dtype=bool)"
   ]
  },
  {
   "cell_type": "code",
   "execution_count": 148,
   "id": "19dbb0c1-7563-493b-8043-f327075b7716",
   "metadata": {},
   "outputs": [],
   "source": [
    "arr[:2] = False"
   ]
  },
  {
   "cell_type": "code",
   "execution_count": 149,
   "id": "542c15a7-9414-400c-81c9-112cad5c4738",
   "metadata": {},
   "outputs": [
    {
     "name": "stdout",
     "output_type": "stream",
     "text": [
      "[False False  True  True False  True False  True False False False  True\n",
      " False  True False False False  True False  True False False False  True\n",
      " False False False False False  True False  True False False False False\n",
      " False  True False False False  True False  True False False False  True\n",
      " False False False False False  True False False False False False  True\n",
      " False  True False False False False False  True False False False  True\n",
      " False  True False False False False False  True False False False  True\n",
      " False False False False False  True False False False False False False\n",
      " False  True False False]\n"
     ]
    }
   ],
   "source": [
    "N_max = int(np.sqrt(len(arr)))\n",
    "for i in range(2, N_max):\n",
    "    arr[2*i::i] = False # начинаем с 2i с шагом i\n",
    "    \n",
    "print(arr)"
   ]
  },
  {
   "cell_type": "markdown",
   "id": "39182408-ab94-445c-90ca-6dd366d9f76b",
   "metadata": {},
   "source": [
    "#### Tensors"
   ]
  },
  {
   "cell_type": "code",
   "execution_count": 150,
   "id": "e4dbff71-04bc-4421-8791-0398df444ad9",
   "metadata": {},
   "outputs": [
    {
     "name": "stdout",
     "output_type": "stream",
     "text": [
      "[[[ 0  1  2  3]\n",
      "  [ 4  5  6  7]]\n",
      "\n",
      " [[ 8  9 10 11]\n",
      "  [12 13 14 15]]\n",
      "\n",
      " [[16 17 18 19]\n",
      "  [20 21 22 23]]\n",
      "\n",
      " [[24 25 26 27]\n",
      "  [28 29 30 31]]\n",
      "\n",
      " [[32 33 34 35]\n",
      "  [36 37 38 39]]\n",
      "\n",
      " [[40 41 42 43]\n",
      "  [44 45 46 47]]\n",
      "\n",
      " [[48 49 50 51]\n",
      "  [52 53 54 55]]\n",
      "\n",
      " [[56 57 58 59]\n",
      "  [60 61 62 63]]]\n"
     ]
    }
   ],
   "source": [
    "X = np.arange(64).reshape(8, 2, 4)\n",
    "print(X)"
   ]
  },
  {
   "cell_type": "code",
   "execution_count": 151,
   "id": "0589ee92-8b61-4add-a6b3-cd6541490e8d",
   "metadata": {},
   "outputs": [
    {
     "name": "stdout",
     "output_type": "stream",
     "text": [
      "[[224 232 240 248]\n",
      " [256 264 272 280]] \n",
      "\n",
      "[[  4   6   8  10]\n",
      " [ 20  22  24  26]\n",
      " [ 36  38  40  42]\n",
      " [ 52  54  56  58]\n",
      " [ 68  70  72  74]\n",
      " [ 84  86  88  90]\n",
      " [100 102 104 106]\n",
      " [116 118 120 122]] \n",
      "\n",
      "[[  6  22]\n",
      " [ 38  54]\n",
      " [ 70  86]\n",
      " [102 118]\n",
      " [134 150]\n",
      " [166 182]\n",
      " [198 214]\n",
      " [230 246]] \n",
      "\n",
      "[ 28  92 156 220 284 348 412 476]\n"
     ]
    }
   ],
   "source": [
    "print(np.sum(X, axis=0), '\\n')\n",
    "print(np.sum(X, axis=1), '\\n')\n",
    "print(np.sum(X, axis=2), '\\n')\n",
    "\n",
    "# суммируем сразу по двум осям, то есть для фиксированной i \n",
    "# суммируем только элементы с индексами (i, *, *)\n",
    "print(np.sum(X, axis=(1, 2)))"
   ]
  },
  {
   "cell_type": "code",
   "execution_count": 173,
   "id": "29a9db7e-051b-4852-80ba-be86b6e9d8a3",
   "metadata": {},
   "outputs": [],
   "source": [
    "matrix = np.arange(12).reshape(3,4)\n",
    "#print(f\"Det = {X}\")"
   ]
  },
  {
   "cell_type": "code",
   "execution_count": 158,
   "id": "d4fc6112-8b2d-4b19-abba-3070fa583236",
   "metadata": {},
   "outputs": [
    {
     "name": "stdout",
     "output_type": "stream",
     "text": [
      "[[ 0  1  2  3]\n",
      " [ 4  5  6  7]\n",
      " [ 8  9 10 11]]\n"
     ]
    }
   ],
   "source": [
    "print(matrix)"
   ]
  },
  {
   "cell_type": "markdown",
   "id": "7519f71a-0cba-4a17-906f-e1e5395b912e",
   "metadata": {},
   "source": [
    "#### Task 4"
   ]
  },
  {
   "cell_type": "code",
   "execution_count": 380,
   "id": "c7e4190c-a0b7-401b-9a09-54f44b7ad000",
   "metadata": {},
   "outputs": [
    {
     "name": "stdout",
     "output_type": "stream",
     "text": [
      "First matrix: \n",
      " [[0.70637555 0.16761483]\n",
      " [0.41146643 0.76855982]]\n",
      "\n",
      "Second matrix: \n",
      " [[0.00520456 0.91950441]\n",
      " [0.87468441 0.4722944 ]]\n",
      "\n",
      "Last matrix row: \n",
      "\n",
      " [[0.41146643 0.76855982]]\n"
     ]
    }
   ],
   "source": [
    "a = np.random.sample((2, 2))\n",
    "b = np.random.sample((2, 2))\n",
    "print(\"First matrix: \\n\",a)\n",
    "print(\"\\nSecond matrix: \\n\",b)\n",
    "print(\"\\nLast matrix row: \\n\\n\",a[-1::])"
   ]
  },
  {
   "cell_type": "code",
   "execution_count": 381,
   "id": "b5318a01-546b-424a-99e8-762607b34a9d",
   "metadata": {},
   "outputs": [
    {
     "name": "stdout",
     "output_type": "stream",
     "text": [
      "(2, 2)\n",
      "(2, 2)\n"
     ]
    }
   ],
   "source": [
    "print(a.shape)\n",
    "print(b.shape)"
   ]
  },
  {
   "cell_type": "code",
   "execution_count": 382,
   "id": "f12a8d6e-4446-41e7-8769-52699eb7b576",
   "metadata": {},
   "outputs": [
    {
     "name": "stdout",
     "output_type": "stream",
     "text": [
      "[[19, 22], [43, 50]]\n"
     ]
    }
   ],
   "source": [
    "a = [[1,2],[3,4]]\n",
    "b = [[5,6],[7,8]]\n",
    "def mult(a,b):    \n",
    "    if len(a[0]) == len(b): \n",
    "        result = [] \n",
    "        for i in range(0,len(a)): \n",
    "            temp = [] \n",
    "        \n",
    "            for j in range(0,len(b[0])): \n",
    "                total = 0 \n",
    "                l = 0 \n",
    "                for k in range(0,len(A[0])):\n",
    "                    total += a[i][k]*b[l][j]\n",
    "                    l = l+1\n",
    "                temp.append(total)\n",
    "            result.append(temp)                \n",
    "        return result\n",
    "    else:\n",
    "        return (print(\"not possible\"))\n",
    "print(mult(a,b))"
   ]
  },
  {
   "cell_type": "code",
   "execution_count": 383,
   "id": "4168a5a1-4e89-4aae-86d4-4b8369eff316",
   "metadata": {},
   "outputs": [
    {
     "name": "stdout",
     "output_type": "stream",
     "text": [
      "CPU times: user 11 µs, sys: 0 ns, total: 11 µs\n",
      "Wall time: 14.1 µs\n"
     ]
    }
   ],
   "source": [
    "%%time\n",
    "# засечем время работы функции без NumPy\n",
    "M1 = mult(a, b)"
   ]
  },
  {
   "cell_type": "code",
   "execution_count": 384,
   "id": "396882f6-63db-4af1-8e65-c0c27c630dd2",
   "metadata": {},
   "outputs": [],
   "source": [
    "def np_mult(a, b):\n",
    "    ccc = np.dot(a,b)\n",
    "    #pass\n",
    "np_mult(a,b)"
   ]
  },
  {
   "cell_type": "code",
   "execution_count": 385,
   "id": "91200010-55c9-4511-97bc-a2ee81720308",
   "metadata": {},
   "outputs": [
    {
     "name": "stdout",
     "output_type": "stream",
     "text": [
      "CPU times: user 35 µs, sys: 6 µs, total: 41 µs\n",
      "Wall time: 43.9 µs\n"
     ]
    }
   ],
   "source": [
    "%%time\n",
    "# засечем время работы функции с NumPy\n",
    "M2 = np_mult(a, b)"
   ]
  },
  {
   "cell_type": "code",
   "execution_count": null,
   "id": "a63e41c2-ebad-4982-9f28-cfebca639c62",
   "metadata": {},
   "outputs": [],
   "source": []
  }
 ],
 "metadata": {
  "kernelspec": {
   "display_name": "Python 3 (ipykernel)",
   "language": "python",
   "name": "python3"
  },
  "language_info": {
   "codemirror_mode": {
    "name": "ipython",
    "version": 3
   },
   "file_extension": ".py",
   "mimetype": "text/x-python",
   "name": "python",
   "nbconvert_exporter": "python",
   "pygments_lexer": "ipython3",
   "version": "3.9.7"
  }
 },
 "nbformat": 4,
 "nbformat_minor": 5
}
